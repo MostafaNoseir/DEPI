{
 "cells": [
  {
   "cell_type": "code",
   "execution_count": 1,
   "id": "e019ec4b-636e-4bf6-bf9e-edf76746dc47",
   "metadata": {},
   "outputs": [],
   "source": [
    "import numpy as np"
   ]
  },
  {
   "cell_type": "markdown",
   "id": "72129395-627a-4b76-a9f1-95c12f1b9c9d",
   "metadata": {},
   "source": [
    "# 1. Broadcasting"
   ]
  },
  {
   "cell_type": "markdown",
   "id": "bfc5f234-94da-48ed-9a14-3822a4ef0cc8",
   "metadata": {},
   "source": [
    "### a) Add a 1D array `[1, 2, 3]` to each row of a 2D array `[[10, 20, 30], [40, 50, 60]]`.\n",
    "#### Expected: [[11, 22, 33], [41, 52, 63]]"
   ]
  },
  {
   "cell_type": "code",
   "execution_count": 14,
   "id": "e138a03e-9f10-44aa-9073-23d58d69f76f",
   "metadata": {},
   "outputs": [],
   "source": [
    "arr1 = np.array([1,2,3])\n",
    "arr2 = np.array([[10, 20, 30], [40, 50, 60]])"
   ]
  },
  {
   "cell_type": "code",
   "execution_count": 18,
   "id": "afdbdcec-b60e-4530-aa52-50ee3b3c4bdf",
   "metadata": {},
   "outputs": [
    {
     "name": "stdout",
     "output_type": "stream",
     "text": [
      "[[11 22 33]\n",
      " [41 52 63]]\n"
     ]
    }
   ],
   "source": [
    "print(arr1 + arr2)"
   ]
  },
  {
   "cell_type": "markdown",
   "id": "2ff7cbdb-88b3-4bad-84fb-72c9272682df",
   "metadata": {},
   "source": [
    "### b) Multiply a 2D array `[[1, 2], [3, 4]]` by a 1D array `[10, 20]` column-wise.\n",
    "#### Expected: [[10, 20], [60, 80]]"
   ]
  },
  {
   "cell_type": "code",
   "execution_count": 25,
   "id": "1716f20c-81d4-4b37-8bb4-dd1f75966653",
   "metadata": {},
   "outputs": [],
   "source": [
    "arr1 = np.array([10, 20]).reshape(2,-1)\n",
    "arr2 = np.array([[1, 2], [3, 4]])"
   ]
  },
  {
   "cell_type": "code",
   "execution_count": 26,
   "id": "9e0f7bbf-901a-462b-bdfb-293916fb8b17",
   "metadata": {},
   "outputs": [
    {
     "name": "stdout",
     "output_type": "stream",
     "text": [
      "[[10 20]\n",
      " [60 80]]\n"
     ]
    }
   ],
   "source": [
    "print(arr1 * arr2)"
   ]
  },
  {
   "cell_type": "code",
   "execution_count": null,
   "id": "1583246e-e02d-46e1-b58b-670c4391cecc",
   "metadata": {},
   "outputs": [],
   "source": []
  },
  {
   "cell_type": "markdown",
   "id": "167917a0-15ba-4a09-a02f-6fca56e2b314",
   "metadata": {},
   "source": [
    "# 2. Indexing and Slicing (High Dimensional Arrays)"
   ]
  },
  {
   "cell_type": "code",
   "execution_count": 32,
   "id": "098087f4-150a-4914-87bd-5d787857446a",
   "metadata": {},
   "outputs": [
    {
     "data": {
      "text/plain": [
       "array([[[ 1,  2,  3,  4],\n",
       "        [ 5,  6,  7,  8],\n",
       "        [ 9, 10, 11, 12]],\n",
       "\n",
       "       [[13, 14, 15, 16],\n",
       "        [17, 18, 19, 20],\n",
       "        [21, 22, 23, 24]]])"
      ]
     },
     "execution_count": 32,
     "metadata": {},
     "output_type": "execute_result"
    }
   ],
   "source": [
    "arr = np.arange(1, 25).reshape(2, 3, 4)\n",
    "arr"
   ]
  },
  {
   "cell_type": "markdown",
   "id": "3544538f-be45-4fe3-9bb5-277a2c38f8ae",
   "metadata": {},
   "source": [
    "### a) Extract the second slice along axis 0.\n",
    "#### Expected: [[13, 14, 15, 16], [17, 18, 19, 20], [21, 22, 23, 24]]"
   ]
  },
  {
   "cell_type": "code",
   "execution_count": 30,
   "id": "0779fe52-b31a-497e-8c93-b8b81cf1a996",
   "metadata": {},
   "outputs": [
    {
     "data": {
      "text/plain": [
       "array([[13, 14, 15, 16],\n",
       "       [17, 18, 19, 20],\n",
       "       [21, 22, 23, 24]])"
      ]
     },
     "execution_count": 30,
     "metadata": {},
     "output_type": "execute_result"
    }
   ],
   "source": [
    "arr[1]"
   ]
  },
  {
   "cell_type": "markdown",
   "id": "c8d43c05-a393-418a-aa19-3f78f2989d58",
   "metadata": {},
   "source": [
    "### b) Extract all rows and the last column for all slices.\n",
    "#### Expected: [[4, 8, 12], [16, 20, 24]]"
   ]
  },
  {
   "cell_type": "code",
   "execution_count": 31,
   "id": "51030927-47c5-4d3a-a561-90d6355e620d",
   "metadata": {},
   "outputs": [
    {
     "data": {
      "text/plain": [
       "array([[ 4,  8, 12],\n",
       "       [16, 20, 24]])"
      ]
     },
     "execution_count": 31,
     "metadata": {},
     "output_type": "execute_result"
    }
   ],
   "source": [
    "arr[:,:,-1]"
   ]
  },
  {
   "cell_type": "markdown",
   "id": "f674f60e-2865-453f-8531-c5cf124c4dba",
   "metadata": {},
   "source": [
    "### c) Reverse the order of slices along axis 0.\n",
    "#### Expected: [[[13, 14, 15, 16], ...], [[1, 2, 3, 4], ...]]"
   ]
  },
  {
   "cell_type": "code",
   "execution_count": 41,
   "id": "d396f25f-212e-4cbf-859b-06d0c9cf781c",
   "metadata": {},
   "outputs": [
    {
     "data": {
      "text/plain": [
       "array([[[13, 14, 15, 16],\n",
       "        [17, 18, 19, 20],\n",
       "        [21, 22, 23, 24]],\n",
       "\n",
       "       [[ 1,  2,  3,  4],\n",
       "        [ 5,  6,  7,  8],\n",
       "        [ 9, 10, 11, 12]]])"
      ]
     },
     "execution_count": 41,
     "metadata": {},
     "output_type": "execute_result"
    }
   ],
   "source": [
    "arr[::-1]"
   ]
  },
  {
   "cell_type": "markdown",
   "id": "18b832e4-c2f5-4c8f-a5f7-d9297349bc59",
   "metadata": {},
   "source": [
    "### d) Set all even elements in the array to -1.\n",
    "#### Expected: All even numbers replaced by -1."
   ]
  },
  {
   "cell_type": "code",
   "execution_count": 44,
   "id": "9181fcf5-28e3-4177-91c4-5ecb47eb90f3",
   "metadata": {},
   "outputs": [
    {
     "data": {
      "text/plain": [
       "array([[[-1, -1, -1, -1],\n",
       "        [-1, -1, -1, -1],\n",
       "        [-1, -1, -1, -1]],\n",
       "\n",
       "       [[-1, -1, -1, -1],\n",
       "        [-1, -1, -1, -1],\n",
       "        [-1, -1, -1, -1]]])"
      ]
     },
     "execution_count": 44,
     "metadata": {},
     "output_type": "execute_result"
    }
   ],
   "source": [
    "arr[:] = -1\n",
    "arr"
   ]
  },
  {
   "cell_type": "code",
   "execution_count": null,
   "id": "068a8fc6-05b9-4af3-9089-5e452ee26151",
   "metadata": {},
   "outputs": [],
   "source": []
  },
  {
   "cell_type": "markdown",
   "id": "d85b3a4d-a154-410a-8927-8baca9944009",
   "metadata": {},
   "source": [
    "# 3. np.repeat"
   ]
  },
  {
   "cell_type": "code",
   "execution_count": 45,
   "id": "22e9259f-4b1e-46a8-8629-f09ba583240c",
   "metadata": {},
   "outputs": [],
   "source": [
    "arr = np.array([1, 2, 3, 4, 5, 6])"
   ]
  },
  {
   "cell_type": "markdown",
   "id": "894953a7-7bba-4caf-9e94-c9ed5fbcbd02",
   "metadata": {},
   "source": [
    "### a) Given `arr = np.array([1, 2, 3, 4, 5, 6])`, create a new array where every odd element is repeated twice.\n",
    "#### Expected: [1, 1, 3, 3, 5, 5]"
   ]
  },
  {
   "cell_type": "code",
   "execution_count": 46,
   "id": "fd0f4144-384f-4af2-a561-89f9d9aa0076",
   "metadata": {},
   "outputs": [
    {
     "data": {
      "text/plain": [
       "array([2, 1, 2, 1, 2, 1])"
      ]
     },
     "execution_count": 46,
     "metadata": {},
     "output_type": "execute_result"
    }
   ],
   "source": [
    "repeats = np.where(arr % 2 == 1, 2, 1)\n",
    "repeats"
   ]
  },
  {
   "cell_type": "code",
   "execution_count": 47,
   "id": "84470413-4a58-4514-a04f-7955db6e63a1",
   "metadata": {},
   "outputs": [
    {
     "data": {
      "text/plain": [
       "array([1, 1, 2, 3, 3, 4, 5, 5, 6])"
      ]
     },
     "execution_count": 47,
     "metadata": {},
     "output_type": "execute_result"
    }
   ],
   "source": [
    "result = np.repeat(arr, repeats)\n",
    "result"
   ]
  },
  {
   "cell_type": "markdown",
   "id": "3840c218-a91d-42b2-beb1-b8b257fab980",
   "metadata": {},
   "source": [
    "### b) Given `arr = np.array([1, 2, 3, 4, 5, 6])`, create a new array where elements are repeated based on their value.\n",
    "#### For example, `1` is repeated once, `2` twice, etc.\n",
    "#### Expected: [1, 2, 2, 3, 3, 3, 4, 4, 4, 4, ...]"
   ]
  },
  {
   "cell_type": "code",
   "execution_count": 49,
   "id": "42253fad-c54c-4696-9fb3-2428b922f616",
   "metadata": {},
   "outputs": [
    {
     "data": {
      "text/plain": [
       "array([1, 2, 2, 3, 3, 3, 4, 4, 4, 4, 5, 5, 5, 5, 5, 6, 6, 6, 6, 6, 6])"
      ]
     },
     "execution_count": 49,
     "metadata": {},
     "output_type": "execute_result"
    }
   ],
   "source": [
    "result = np.repeat(arr,arr)\n",
    "result"
   ]
  },
  {
   "cell_type": "code",
   "execution_count": null,
   "id": "6a53276c-3c5f-4d23-88ea-779243280074",
   "metadata": {},
   "outputs": [],
   "source": []
  },
  {
   "cell_type": "markdown",
   "id": "87168ad9-8593-49d3-b2c8-c06a3128f6da",
   "metadata": {},
   "source": [
    "# 4. Normalizing"
   ]
  },
  {
   "cell_type": "code",
   "execution_count": 58,
   "id": "7536e91e-998a-4e68-9cc9-44089f61341f",
   "metadata": {},
   "outputs": [],
   "source": [
    "arr = np.array([10, 20, 30])"
   ]
  },
  {
   "cell_type": "markdown",
   "id": "225e21c0-93b5-41a3-9043-84d792ce55af",
   "metadata": {},
   "source": [
    "### a) Normalize a 1D array `arr = np.array([10, 20, 30])` to have values between 0 and 1.\n",
    "#### Expected: [0.0, 0.5, 1.0]"
   ]
  },
  {
   "cell_type": "code",
   "execution_count": 59,
   "id": "0a70fc61-8047-494c-87bd-6dff872c5161",
   "metadata": {},
   "outputs": [
    {
     "data": {
      "text/plain": [
       "10"
      ]
     },
     "execution_count": 59,
     "metadata": {},
     "output_type": "execute_result"
    }
   ],
   "source": [
    "min = np.min(arr)\n",
    "min"
   ]
  },
  {
   "cell_type": "code",
   "execution_count": 60,
   "id": "2f9652f5-b68c-4264-be1f-06f3267ad1a0",
   "metadata": {},
   "outputs": [
    {
     "data": {
      "text/plain": [
       "30"
      ]
     },
     "execution_count": 60,
     "metadata": {},
     "output_type": "execute_result"
    }
   ],
   "source": [
    "max = np.max(arr)\n",
    "max"
   ]
  },
  {
   "cell_type": "code",
   "execution_count": 61,
   "id": "2e48c2cd-6edc-42fe-ae64-784f54debea1",
   "metadata": {},
   "outputs": [
    {
     "data": {
      "text/plain": [
       "array([0. , 0.5, 1. ])"
      ]
     },
     "execution_count": 61,
     "metadata": {},
     "output_type": "execute_result"
    }
   ],
   "source": [
    "arr_norm = (arr - min)/(max - min)\n",
    "arr_norm"
   ]
  },
  {
   "cell_type": "code",
   "execution_count": null,
   "id": "99787833-6411-42b5-aa7a-c69e3b255663",
   "metadata": {},
   "outputs": [],
   "source": []
  },
  {
   "cell_type": "markdown",
   "id": "7434d577-2d1a-44af-96a6-9eaaa4af527b",
   "metadata": {},
   "source": [
    "# 5. Bonus Challenge"
   ]
  },
  {
   "cell_type": "markdown",
   "id": "315762e4-77a5-4418-89b5-60c933c3ca0a",
   "metadata": {},
   "source": [
    "### a) Create a 3x3 matrix where each element at position (i, j) is i * j.\n",
    "#### Expected: [[0, 0, 0], [0, 1, 2], [0, 2, 4]]"
   ]
  },
  {
   "cell_type": "code",
   "execution_count": 68,
   "id": "0ea10723-6a84-4677-bc4d-ab0f4d01ba00",
   "metadata": {},
   "outputs": [
    {
     "data": {
      "text/plain": [
       "array([[0, 0, 0],\n",
       "       [0, 1, 2],\n",
       "       [0, 2, 4]])"
      ]
     },
     "execution_count": 68,
     "metadata": {},
     "output_type": "execute_result"
    }
   ],
   "source": [
    "arr = np.zeros((3,3), dtype=int)\n",
    "for i in range(3):\n",
    "    for j in range(3):\n",
    "        arr[i,j] = i*j\n",
    "\n",
    "arr"
   ]
  },
  {
   "cell_type": "markdown",
   "id": "a8ba6e4d-d548-4d4b-bd11-fa9512237972",
   "metadata": {},
   "source": [
    "### b) Given a 4x4 matrix, replace all elements on the main diagonal with 0 without using a loop.\n",
    "#### Expected: Diagonal elements replaced with 0."
   ]
  },
  {
   "cell_type": "code",
   "execution_count": 74,
   "id": "0dc8cd79-ddcc-40b6-b943-6070dc0482b2",
   "metadata": {},
   "outputs": [
    {
     "data": {
      "text/plain": [
       "array([[ 1,  2,  3,  4],\n",
       "       [ 5,  6,  7,  8],\n",
       "       [ 9, 10, 11, 12],\n",
       "       [13, 14, 15, 16]])"
      ]
     },
     "execution_count": 74,
     "metadata": {},
     "output_type": "execute_result"
    }
   ],
   "source": [
    "arr = np.arange(1,17).reshape(4,4)\n",
    "arr"
   ]
  },
  {
   "cell_type": "code",
   "execution_count": 76,
   "id": "3cd6a5b9-7f6a-4345-9926-5cbac2f43d5b",
   "metadata": {},
   "outputs": [
    {
     "data": {
      "text/plain": [
       "array([[ 0,  2,  3,  4],\n",
       "       [ 5,  0,  7,  8],\n",
       "       [ 9, 10,  0, 12],\n",
       "       [13, 14, 15,  0]])"
      ]
     },
     "execution_count": 76,
     "metadata": {},
     "output_type": "execute_result"
    }
   ],
   "source": [
    "np.fill_diagonal(arr, 0)\n",
    "arr"
   ]
  },
  {
   "cell_type": "code",
   "execution_count": null,
   "id": "b6f8c77e-f9c8-4641-a8bf-22bc7324ed9d",
   "metadata": {},
   "outputs": [],
   "source": []
  }
 ],
 "metadata": {
  "kernelspec": {
   "display_name": "Python 3 (ipykernel)",
   "language": "python",
   "name": "python3"
  },
  "language_info": {
   "codemirror_mode": {
    "name": "ipython",
    "version": 3
   },
   "file_extension": ".py",
   "mimetype": "text/x-python",
   "name": "python",
   "nbconvert_exporter": "python",
   "pygments_lexer": "ipython3",
   "version": "3.12.7"
  }
 },
 "nbformat": 4,
 "nbformat_minor": 5
}
